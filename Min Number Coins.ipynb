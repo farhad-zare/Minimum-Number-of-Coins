{
 "cells": [
  {
   "cell_type": "markdown",
   "metadata": {},
   "source": [
    "RECURSIVECHANGE(money, COINS)\n",
    "   if money = 0\n",
    "      return 0\n",
    "   minNumCoins 1\n",
    "   for i from 1 to |COINS|\n",
    "    if money >= coini\n",
    "         numCoins=RECURSIVECHANGE(money  coini, COINS)\n",
    "         if numCoins + 1 < minNumCoins\n",
    "                 minNumCoins=numCoins + 1\n",
    "return minNumCoins"
   ]
  },
  {
   "cell_type": "code",
   "execution_count": 30,
   "metadata": {},
   "outputs": [],
   "source": [
    "def MinNumCoin(money,coins):\n",
    "    if money==0:\n",
    "        return 0\n",
    "    Number=[]\n",
    "    for i in range(0,len(coins)):\n",
    "        if coins[i]<=money:\n",
    "            N=(money-money%coins[i])/coins[i]\n",
    "            Min=N+MinNumCoin(money%coins[i],coins)\n",
    "            Number.append(Min)\n",
    "    return int(min(Number))\n",
    "        "
   ]
  },
  {
   "cell_type": "code",
   "execution_count": 39,
   "metadata": {},
   "outputs": [
    {
     "data": {
      "text/plain": [
       "1485"
      ]
     },
     "execution_count": 39,
     "metadata": {},
     "output_type": "execute_result"
    }
   ],
   "source": [
    "MinNumCoin(16327,[1,3,5,11])"
   ]
  }
 ],
 "metadata": {
  "kernelspec": {
   "display_name": "Python 3",
   "language": "python",
   "name": "python3"
  },
  "language_info": {
   "codemirror_mode": {
    "name": "ipython",
    "version": 3
   },
   "file_extension": ".py",
   "mimetype": "text/x-python",
   "name": "python",
   "nbconvert_exporter": "python",
   "pygments_lexer": "ipython3",
   "version": "3.7.4"
  }
 },
 "nbformat": 4,
 "nbformat_minor": 2
}
